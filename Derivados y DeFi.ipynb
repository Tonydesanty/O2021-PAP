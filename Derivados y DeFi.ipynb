{
 "cells": [
  {
   "cell_type": "markdown",
   "id": "b06067d1",
   "metadata": {},
   "source": [
    "<center> <img src=\"http://oci02.img.iteso.mx/identidad_de_instancia_2018/ITESO/Logos%20ITESO/Logo-ITESO-Principal.jpg\" align=\"center\" width=\"960\" height=\"480\"/> </center>"
   ]
  },
  {
   "cell_type": "markdown",
   "id": "0b53cec8",
   "metadata": {},
   "source": [
    "<center><font color=#555555><font size=6> PAP PROGRAMA DE MODELACION MATEMATICA PARA EL DESARROLLO DE PLANES Y PROYECTOS DE NEGOCIO II (O2021_PAP4J05A) </font> <br> <br>\n",
    "    \n",
    "\n",
    "<center><font color=#555555><font size=6> I.F. Antonio Rosas - Erick Mendoza </font> <br> <br>\n",
    "   \n",
    "<center> <font color= #555555> <font size = 4> Jun 2021 </a> | <font color= #555555> <font size = 4> Repository: <a href='https://github.com/erickmendozag/O2021-PAP'>Link</a></font>"
   ]
  },
  {
   "cell_type": "markdown",
   "id": "5fb8cd8d",
   "metadata": {},
   "source": [
    "<hr style=\"border:0.02in solid gray\"> </hr>"
   ]
  },
  {
   "cell_type": "markdown",
   "id": "b9d46ba7",
   "metadata": {},
   "source": [
    "<center> <font color= #555555> <font size = 6> Borrador </font> <br> <br> <font color= #555555> <font size = 5> Borrador"
   ]
  },
  {
   "cell_type": "markdown",
   "id": "654ee906",
   "metadata": {},
   "source": [
    "<hr style=\"border:0.02in solid gray\"> </hr>"
   ]
  },
  {
   "cell_type": "markdown",
   "id": "3516b009",
   "metadata": {},
   "source": [
    "Referencias : https://github.com/ccxt/ccxt"
   ]
  },
  {
   "cell_type": "code",
   "execution_count": null,
   "id": "9efaff1d",
   "metadata": {},
   "outputs": [],
   "source": []
  }
 ],
 "metadata": {
  "kernelspec": {
   "display_name": "Python 3",
   "language": "python",
   "name": "python3"
  },
  "language_info": {
   "codemirror_mode": {
    "name": "ipython",
    "version": 3
   },
   "file_extension": ".py",
   "mimetype": "text/x-python",
   "name": "python",
   "nbconvert_exporter": "python",
   "pygments_lexer": "ipython3",
   "version": "3.8.8"
  }
 },
 "nbformat": 4,
 "nbformat_minor": 5
}
